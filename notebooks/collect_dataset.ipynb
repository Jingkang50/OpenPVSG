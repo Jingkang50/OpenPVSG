{
 "cells": [
  {
   "cell_type": "code",
   "execution_count": 6,
   "metadata": {},
   "outputs": [],
   "source": [
    "import os"
   ]
  },
  {
   "cell_type": "code",
   "execution_count": 7,
   "metadata": {},
   "outputs": [],
   "source": [
    "source_root = '../../annotation_fine/data'\n",
    "source_dir_list = ['data_Task_0129_v2', 'data_Task_0205_v2', 'data_Task_0219_v2', 'data_val_v2']\n",
    "target_root = '../data/data_v2'"
   ]
  },
  {
   "cell_type": "markdown",
   "metadata": {},
   "source": [
    "### Process masks"
   ]
  },
  {
   "cell_type": "code",
   "execution_count": null,
   "metadata": {},
   "outputs": [],
   "source": [
    "# softlink all `images` and `masks` to `target_root/images` and `target_root/masks`\n",
    "def create_dir(path):\n",
    "    if not os.path.exists(path):\n",
    "        os.makedirs(path)\n",
    "\n",
    "for source_dir in source_dir_list:\n",
    "    source_mask_path = os.path.join(source_root, source_dir, 'final_masks')\n",
    "    target_mask_root = os.path.join(target_root, 'masks')\n",
    "    create_dir(target_mask_root)\n",
    "    mask_dirs = [d for d in os.listdir(source_mask_path) if os.path.isdir(os.path.join(source_mask_path, d))]\n",
    "    for d in mask_dirs:\n",
    "        source_path = os.path.join(source_mask_path, d)\n",
    "        dest_path = os.path.join(target_mask_root, d)\n",
    "        \n",
    "        # Check if the destination path already exists\n",
    "        if os.path.lexists(dest_path):\n",
    "            print(f\"Destination path {dest_path} already exists. Skipping...\")\n",
    "            continue\n",
    "\n",
    "        # Ensure that you have the necessary permissions\n",
    "        if not os.access(os.path.dirname(dest_path), os.W_OK):\n",
    "            print(f\"Write permission not available for {os.path.dirname(dest_path)}. Skipping...\")\n",
    "            continue\n",
    "\n",
    "        # Use an absolute path\n",
    "        source_path = os.path.abspath(source_path)\n",
    "        dest_path = os.path.abspath(dest_path)\n",
    "\n",
    "        # Create the soft link\n",
    "        try:\n",
    "            os.symlink(source_path, dest_path)\n",
    "        except Exception as e:\n",
    "            print(f\"Failed to create soft link from {source_path} to {dest_path}: {e}\")\n"
   ]
  },
  {
   "cell_type": "markdown",
   "metadata": {},
   "source": [
    "### Process images"
   ]
  },
  {
   "cell_type": "code",
   "execution_count": 22,
   "metadata": {},
   "outputs": [],
   "source": [
    "source_img_path = '../data/vidor/frames'\n",
    "target_img_root = os.path.join(target_root, 'images')\n",
    "create_dir(target_img_root)\n",
    "\n",
    "img_dirs = [d for d in os.listdir(source_img_path) if os.path.isdir(os.path.join(source_img_path, d))]\n",
    "for d in img_dirs:\n",
    "    source_path = os.path.join(source_img_path, d)\n",
    "    dest_path = os.path.join(target_img_root, d)\n",
    "\n",
    "    # Check if the destination path already exists\n",
    "    if os.path.lexists(dest_path):\n",
    "        print(f\"Destination path {dest_path} already exists. Skipping...\")\n",
    "        continue\n",
    "\n",
    "    # Ensure that you have the necessary permissions\n",
    "    if not os.access(os.path.dirname(dest_path), os.W_OK):\n",
    "        print(f\"Write permission not available for {os.path.dirname(dest_path)}. Skipping...\")\n",
    "        continue\n",
    "\n",
    "    # Use an absolute path\n",
    "    source_path = os.path.abspath(source_path)\n",
    "    dest_path = os.path.abspath(dest_path)\n",
    "\n",
    "    # Create the soft link\n",
    "    try:\n",
    "        os.symlink(source_path, dest_path)\n",
    "    except Exception as e:\n",
    "        print(f\"Failed to create soft link from {source_path} to {dest_path}: {e}\")\n"
   ]
  },
  {
   "cell_type": "markdown",
   "metadata": {},
   "source": [
    "### Process json"
   ]
  },
  {
   "cell_type": "code",
   "execution_count": 3,
   "metadata": {},
   "outputs": [],
   "source": [
    "import json\n",
    "def load_json(file):\n",
    "     with open(file, \"r\") as f:\n",
    "        return json.load(f)\n",
    "\n",
    "def save_json(obj, file):\n",
    "    with open(file, \"w\") as f:\n",
    "        json.dump(obj, f)"
   ]
  },
  {
   "cell_type": "code",
   "execution_count": 33,
   "metadata": {},
   "outputs": [
    {
     "name": "stdout",
     "output_type": "stream",
     "text": [
      "Finish merge, number of files:  287\n"
     ]
    }
   ],
   "source": [
    "full_json = []\n",
    "for source_dir in source_dir_list:\n",
    "    source_json_path = os.path.join(source_root, source_dir, 'pvsg.json')\n",
    "    json_file = load_json(source_json_path)\n",
    "    for json_content in json_file:\n",
    "        object_content = json_content['objects']\n",
    "        sorted_object_content = sorted(object_content, key=lambda x: not x['is_thing'])\n",
    "        json_content['objects'] = sorted_object_content\n",
    "        full_json.append(json_content)\n",
    "print('Finish merge, number of files: ', len(full_json))\n",
    "save_json(full_json, os.path.join(target_root, 'pvsg.json'))"
   ]
  },
  {
   "cell_type": "markdown",
   "metadata": {},
   "source": [
    "### Regularize all objects"
   ]
  },
  {
   "cell_type": "code",
   "execution_count": 8,
   "metadata": {},
   "outputs": [],
   "source": [
    "import os\n",
    "full_json = load_json(os.path.join(target_root, 'pvsg.json'))"
   ]
  },
  {
   "cell_type": "code",
   "execution_count": 9,
   "metadata": {},
   "outputs": [],
   "source": [
    "stuff_classes = [\"floor\", \"ground\", \"grass\", \"rock\", \"tree\", \n",
    "                 \"ceiling\", \"wall\", \"snow\", \"sky\", \"water\", \"sand\"]"
   ]
  },
  {
   "cell_type": "code",
   "execution_count": 10,
   "metadata": {},
   "outputs": [
    {
     "name": "stdout",
     "output_type": "stream",
     "text": [
      "1002_4060588783 {'object_id': 2, 'category': 'table', 'is_thing': False, 'status': []}\n",
      "1018_6782372702 {'object_id': 1, 'category': 'shoe', 'is_thing': False, 'status': []}\n",
      "1019_3217749642 {'object_id': 1, 'category': 'curtain', 'is_thing': False, 'status': []}\n",
      "1101_5408448203 {'object_id': 1, 'category': 'carpet', 'is_thing': False, 'status': []}\n",
      "1010_5424217420 {'object_id': 2, 'category': 'child', 'is_thing': False, 'status': []}\n",
      "1006_4533035526 {'object_id': 4, 'category': 'ballon', 'is_thing': False, 'status': []}\n",
      "0089_7180987582 {'object_id': 7, 'category': 'car', 'is_thing': False, 'status': []}\n",
      "0006_2889117240 {'object_id': 2, 'category': 'box', 'is_thing': False, 'status': []}\n",
      "1008_3243801466 {'object_id': 1, 'category': 'table', 'is_thing': False, 'status': []}\n",
      "1008_4294147314 {'object_id': 1, 'category': 'baby', 'is_thing': False, 'status': []}\n",
      "1008_5635020430 {'object_id': 3, 'category': 'camera', 'is_thing': False, 'status': []}\n",
      "1009_12760412393 {'object_id': 1, 'category': 'gift', 'is_thing': False, 'status': []}\n",
      "1010_4489734073 {'object_id': 1, 'category': 'others', 'is_thing': False, 'status': []}\n",
      "1010_4489734073 {'object_id': 4, 'category': 'cup', 'is_thing': False, 'status': []}\n",
      "1014_7980911107 {'object_id': 1, 'category': 'camera', 'is_thing': False, 'status': []}\n",
      "1017_3778833956 {'object_id': 3, 'category': 'camera', 'is_thing': False, 'status': []}\n",
      "1017_3778833956 {'object_id': 4, 'category': 'car', 'is_thing': False, 'status': []}\n",
      "0003_3396832512 {'object_id': 1, 'category': 'meat', 'is_thing': False, 'status': []}\n",
      "0003_3396832512 {'object_id': 2, 'category': 'table', 'is_thing': False, 'status': []}\n",
      "0003_3396832512 {'object_id': 3, 'category': 'chair', 'is_thing': False, 'status': []}\n",
      "0003_3396832512 {'object_id': 4, 'category': 'knife', 'is_thing': False, 'status': []}\n",
      "1024_5209164320 {'object_id': 1, 'category': 'sofa', 'is_thing': False, 'status': []}\n",
      "1024_5209164320 {'object_id': 2, 'category': 'chair', 'is_thing': False, 'status': []}\n",
      "1025_6061530960 {'object_id': 1, 'category': 'cloth', 'is_thing': False, 'status': []}\n",
      "1025_6061530960 {'object_id': 2, 'category': 'chair', 'is_thing': False, 'status': []}\n",
      "0004_11566980553 {'object_id': 1, 'category': 'carpet', 'is_thing': False, 'status': []}\n",
      "0046_11919433184 {'object_id': 11, 'category': 'rock', 'is_thing': True, 'status': []}\n",
      "0046_11919433184 {'object_id': 2, 'category': 'child', 'is_thing': False, 'status': []}\n",
      "0046_11919433184 {'object_id': 6, 'category': 'ball', 'is_thing': False, 'status': []}\n",
      "0051_3702633786 {'object_id': 8, 'category': 'rock', 'is_thing': True, 'status': []}\n",
      "0075_11566764085 {'object_id': 1, 'category': 'carpet', 'is_thing': False, 'status': []}\n",
      "1000_6828150903 {'object_id': 10, 'category': 'rock', 'is_thing': True, 'status': []}\n",
      "1001_7007447516 {'object_id': 4, 'category': 'child', 'is_thing': False, 'status': []}\n",
      "1001_7007447516 {'object_id': 5, 'category': 'iron', 'is_thing': False, 'status': []}\n",
      "1025_4615486172 {'object_id': 13, 'category': 'rock', 'is_thing': True, 'status': []}\n"
     ]
    }
   ],
   "source": [
    "# print wrong objects\n",
    "for json_content in full_json:\n",
    "    for object_dict in json_content['objects']:\n",
    "        if object_dict['category'] in stuff_classes:\n",
    "            if object_dict['is_thing']:\n",
    "                print(json_content['video_id'], object_dict)\n",
    "        else:\n",
    "            if not object_dict['is_thing']:\n",
    "                print(json_content['video_id'], object_dict)"
   ]
  },
  {
   "cell_type": "code",
   "execution_count": 11,
   "metadata": {},
   "outputs": [],
   "source": [
    "# modify wrong objects\n",
    "for json_content in full_json:\n",
    "    for i, object_dict in enumerate(json_content['objects']):\n",
    "        if object_dict['category'] in stuff_classes:\n",
    "            json_content['objects'][i]['is_thing'] = False\n",
    "        else:\n",
    "            json_content['objects'][i]['is_thing'] = True"
   ]
  },
  {
   "cell_type": "code",
   "execution_count": 20,
   "metadata": {},
   "outputs": [
    {
     "name": "stdout",
     "output_type": "stream",
     "text": [
      "Object:  94\n",
      "Stuff:  11\n",
      "All:  105\n"
     ]
    }
   ],
   "source": [
    "# list all classes\n",
    "category_list = []\n",
    "\n",
    "for json_content in full_json:\n",
    "    for object_dict in json_content['objects']:\n",
    "        category_list.append(object_dict['category'])\n",
    "\n",
    "all_category = set(category_list)\n",
    "all_stuff = set(stuff_classes)\n",
    "all_object = all_category - all_stuff\n",
    "print('Object: ', len(all_object))\n",
    "print('Stuff: ', len(all_stuff))\n",
    "print('All: ', len(all_category))"
   ]
  },
  {
   "cell_type": "code",
   "execution_count": 28,
   "metadata": {},
   "outputs": [
    {
     "name": "stdout",
     "output_type": "stream",
     "text": [
      "Object ['adult', 'baby', 'bag', 'ball', 'ballon', 'basket', 'bat', 'bed', 'bench', 'bike', 'bird', 'blanket', 'board', 'book', 'bottle', 'bowl', 'box', 'bread', 'bucket', 'cabinet', 'cake', 'camera', 'can', 'candle', 'car', 'card', 'carpet', 'cart', 'cat', 'cellphone', 'chair', 'child', 'cloth', 'computer', 'cookie', 'countertop', 'cup', 'curtain', 'dog', 'door', 'drawer', 'dustbin', 'fan', 'fence', 'flower', 'fork', 'fridge', 'fruit', 'gift', 'glass', 'glasses', 'guitar', 'hat', 'helmet', 'horse', 'iron', 'knife', 'light', 'lighter', 'mat', 'meat', 'microphone', 'mop', 'net', 'others', 'oven', 'paper', 'piano', 'pillow', 'pizza', 'plant', 'plate', 'racket', 'rag', 'ring', 'scissor', 'shelf', 'shoe', 'sink', 'slide', 'sofa', 'sponge', 'spoon', 'stairs', 'stand', 'stove', 'table', 'teapot', 'towel', 'toy', 'tray', 'tv', 'vegetable', 'window']\n",
      "Stuff ['ceiling', 'floor', 'grass', 'ground', 'rock', 'sand', 'sky', 'snow', 'tree', 'wall', 'water']\n"
     ]
    }
   ],
   "source": [
    "all_object_list = sorted(list(all_object))\n",
    "print('Object', all_object_list)\n",
    "all_stuff_list = sorted(list(all_stuff))\n",
    "print('Stuff', all_stuff_list)"
   ]
  },
  {
   "cell_type": "code",
   "execution_count": 21,
   "metadata": {},
   "outputs": [],
   "source": [
    "save_json(full_json, os.path.join(target_root, 'pvsg.json'))"
   ]
  },
  {
   "cell_type": "code",
   "execution_count": 22,
   "metadata": {},
   "outputs": [],
   "source": [
    "video_list = [json_content['video_id'] for json_content in full_json]"
   ]
  },
  {
   "cell_type": "code",
   "execution_count": 24,
   "metadata": {},
   "outputs": [
    {
     "data": {
      "text/plain": [
       "287"
      ]
     },
     "execution_count": 24,
     "metadata": {},
     "output_type": "execute_result"
    }
   ],
   "source": [
    "len(video_list)"
   ]
  },
  {
   "cell_type": "code",
   "execution_count": 26,
   "metadata": {},
   "outputs": [],
   "source": [
    "train_list = video_list[:-20]\n",
    "test_list = video_list[-20:]"
   ]
  },
  {
   "cell_type": "code",
   "execution_count": 30,
   "metadata": {},
   "outputs": [],
   "source": [
    "pvsg_json = {\n",
    "    'train': train_list,\n",
    "    'val': test_list,\n",
    "    'object': all_object_list,\n",
    "    'stuff': all_stuff_list,\n",
    "    'data': full_json,\n",
    "}\n",
    "save_json(pvsg_json, os.path.join(target_root, 'pvsg_data.json'))"
   ]
  },
  {
   "cell_type": "code",
   "execution_count": null,
   "metadata": {},
   "outputs": [],
   "source": []
  }
 ],
 "metadata": {
  "kernelspec": {
   "display_name": "Python 3 (ipykernel)",
   "language": "python",
   "name": "python3"
  },
  "language_info": {
   "codemirror_mode": {
    "name": "ipython",
    "version": 3
   },
   "file_extension": ".py",
   "mimetype": "text/x-python",
   "name": "python",
   "nbconvert_exporter": "python",
   "pygments_lexer": "ipython3",
   "version": "3.7.11"
  }
 },
 "nbformat": 4,
 "nbformat_minor": 2
}
